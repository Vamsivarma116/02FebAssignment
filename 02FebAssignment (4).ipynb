{
 "cells": [
  {
   "cell_type": "markdown",
   "id": "12905819-9b06-4766-a526-0b430e29ec3b",
   "metadata": {},
   "source": [
    "Q1. Explain with an example each when to use a for loop and a while loop.\n",
    "1. For loop--> It is used whenever we are having number of iterations(N)\n",
    "               to iterate. \n",
    "               Here, we can also control number of iterations by using for loop.\n",
    "\n",
    "Example:\n",
    "            N=10 --> Here we have number of iterations 10 the loop should iterate 10 times.\n",
    "\n",
    "for i in range(1,N+1):\n",
    "     \n",
    "     print(i)\n",
    "\n",
    "2. While loop--> It is used to iterate loop untill and unless the given condition becomes False.\n",
    "                 Here, we can also control number of iterations by using while loop.\n",
    "\n",
    "Example:     \n",
    "            N=10,condition(i<N) --> Here, untill and unless (i<N)- become False this loop will iterate.\n",
    "            \n",
    "N=10\n",
    "\n",
    "i=0\n",
    "\n",
    "while(i<N)\n",
    "\n",
    "    print(i)\n",
    "    \n",
    "    i=i+1\n",
    "                "
   ]
  },
  {
   "cell_type": "code",
   "execution_count": 7,
   "id": "ccb8c230-f97e-4081-8658-786e22714b2a",
   "metadata": {},
   "outputs": [
    {
     "name": "stdout",
     "output_type": "stream",
     "text": [
      "The sum of first 10 natural numbers using for loop is : 55\n",
      "The product of first 10 natural numbers using for loop is : 3628800\n",
      "The sum of first 10 natural numbers using while loop is : 55\n",
      "The product of first 10 natural numbers using while loop is : 3628800\n"
     ]
    }
   ],
   "source": [
    "\"\"\"Q2. Write a python program to print the sum and product of the first 10 natural numbers using for\n",
    "          and while loop.\"\"\"\n",
    "\n",
    "sumfor=0\n",
    "sumwhile=0\n",
    "profor=1\n",
    "prowhile=1\n",
    "for i in range(1,11):\n",
    "    sumfor=sumfor+i\n",
    "    profor=profor*i\n",
    "\n",
    "i=1\n",
    "while(i<11):\n",
    "    sumwhile=sumwhile+i\n",
    "    prowhile=prowhile*i\n",
    "    i=i+1\n",
    "\n",
    "print(\"The sum of first 10 natural numbers using \"\"for\"\" loop is :\",sumfor)\n",
    "print(\"The product of first 10 natural numbers using for loop is :\",profor)\n",
    "print(\"The sum of first 10 natural numbers using while loop is :\",sumwhile)\n",
    "print(\"The product of first 10 natural numbers using while loop is :\",prowhile)\n",
    "\n"
   ]
  },
  {
   "cell_type": "code",
   "execution_count": 8,
   "id": "0c0b8322-990d-4dcf-98d5-5fa2df9b1df6",
   "metadata": {},
   "outputs": [
    {
     "name": "stdin",
     "output_type": "stream",
     "text": [
      " 310\n"
     ]
    },
    {
     "name": "stdout",
     "output_type": "stream",
     "text": [
      "2250\n"
     ]
    }
   ],
   "source": [
    "\"\"\"Q3. Create a python program to compute the electricity bill for a household.\n",
    "    The per-unit charges in rupees are as follows: For the first 100 units, the user will be charged Rs. 4.5 per\n",
    "    unit, for the next 100 units, the user will be charged Rs. 6 per unit, and for the next 100 units, the user will\n",
    "    be charged Rs. 10 per unit, After 300 units and above the user will be charged Rs. 20 per unit.\n",
    "    You are required to take the units of electricity consumed in a month from the user as input.\n",
    "    \n",
    "    Your program must pass this test case: when the unit of electricity consumed by the user in a month is\n",
    "    310, the total electricity bill should be 2250.\"\"\"\n",
    "\n",
    "No_of_units=int(input())\n",
    "\n",
    "if(No_of_units > 300):\n",
    "    sum=(No_of_units - 300)*20+100*10+100*6+100*(4.5)\n",
    "elif(No_of_units > 200 and No_of_units <= 300):\n",
    "    sum=(No_of_units - 200)*10+100*6+100*(4.5)\n",
    "elif(No_of_units > 100 and No_of_units <= 200):\n",
    "    sum=(No_of_units - 100)*6+100*(4.5)\n",
    "elif(No_of_units > 0 and No_of_units <= 100):\n",
    "    sum=(100 - No_of_units)*(4.5)\n",
    "\n",
    "print(int(sum))"
   ]
  },
  {
   "cell_type": "code",
   "execution_count": 9,
   "id": "dc3f349d-08cf-4b22-8936-7e2e92fb34bc",
   "metadata": {},
   "outputs": [
    {
     "name": "stdout",
     "output_type": "stream",
     "text": [
      "List using for loop   : [2, 4, 5, 6, 8, 10, 12, 14, 15, 16, 18, 20, 22, 24, 25, 26, 28, 30, 32, 34, 35, 36, 38, 40, 42, 44, 45, 46, 48, 50, 52, 54, 55, 56, 58, 60, 62, 64, 65, 66, 68, 70, 72, 74, 75, 76, 78, 80, 82, 84, 85, 86, 88, 90, 92, 94, 95, 96, 98, 100]\n",
      "List using while loop : [2, 4, 5, 6, 8, 10, 12, 14, 15, 16, 18, 20, 22, 24, 25, 26, 28, 30, 32, 34, 35, 36, 38, 40, 42, 44, 45, 46, 48, 50, 52, 54, 55, 56, 58, 60, 62, 64, 65, 66, 68, 70, 72, 74, 75, 76, 78, 80, 82, 84, 85, 86, 88, 90, 92, 94, 95, 96, 98, 100]\n"
     ]
    }
   ],
   "source": [
    "\"\"\"Q4. Create a list of numbers from 1 to 100. Use for loop and while loop to calculate the cube of each\n",
    "       number and if the cube of that number is divisible by 4 or 5 then append that number in a list and print\n",
    "       that list.\"\"\"\n",
    "\n",
    "l=list(range(1,101))\n",
    "\n",
    "lfor=[]\n",
    "lwhile=[]\n",
    "\n",
    "for i in l:\n",
    "    x=i**3\n",
    "    if((x%4)==0 or (x%5)==0):\n",
    "        lfor.append(i)\n",
    "\n",
    "i=0\n",
    "while(i<100):\n",
    "    y=l[i]**3\n",
    "    if((y%4)==0 or (y%5)==0):\n",
    "        lwhile.append(l[i])\n",
    "    i=i+1\n",
    "    \n",
    "print(\"List using for loop   :\",lfor)\n",
    "print(\"List using while loop :\",lwhile)"
   ]
  },
  {
   "cell_type": "code",
   "execution_count": 10,
   "id": "c7ca264d-5357-4e45-941c-49782a24ac4d",
   "metadata": {},
   "outputs": [
    {
     "name": "stdin",
     "output_type": "stream",
     "text": [
      " I want to become a data scientist\n"
     ]
    },
    {
     "name": "stdout",
     "output_type": "stream",
     "text": [
      "12\n"
     ]
    }
   ],
   "source": [
    "'''Q5. Write a program to filter count vowels in the below-given string.\n",
    "       string = \"I want to become a data scientist\"   '''\n",
    "\n",
    "string=input()\n",
    "#I want to become a data scientist\n",
    "count=0\n",
    "for i in string.lower():\n",
    "    if i in \"aeiou\":\n",
    "        count=count+1\n",
    "\n",
    "print(count)"
   ]
  },
  {
   "cell_type": "code",
   "execution_count": null,
   "id": "e96fea31-67dc-494e-a571-b075141fb30d",
   "metadata": {},
   "outputs": [],
   "source": []
  }
 ],
 "metadata": {
  "kernelspec": {
   "display_name": "Python 3 (ipykernel)",
   "language": "python",
   "name": "python3"
  },
  "language_info": {
   "codemirror_mode": {
    "name": "ipython",
    "version": 3
   },
   "file_extension": ".py",
   "mimetype": "text/x-python",
   "name": "python",
   "nbconvert_exporter": "python",
   "pygments_lexer": "ipython3",
   "version": "3.10.8"
  }
 },
 "nbformat": 4,
 "nbformat_minor": 5
}
